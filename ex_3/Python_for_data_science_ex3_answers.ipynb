{
 "cells": [
  {
   "cell_type": "markdown",
   "metadata": {
    "colab_type": "text",
    "id": "view-in-github"
   },
   "source": [
    "<a href=\"https://colab.research.google.com/github/datamind-dotfit/python_for_data_science/blob/master/Python_for_data_science_answers.ipynb\" target=\"_parent\"><img src=\"https://colab.research.google.com/assets/colab-badge.svg\" alt=\"Open In Colab\"/></a>"
   ]
  },
  {
   "cell_type": "markdown",
   "metadata": {
    "colab_type": "text",
    "id": "gHxFFnTgZf-3"
   },
   "source": [
    "# Step 1:\n",
    "## Initial setup - let's get some data!\n",
    "Before we start, let's first get some data. In Google Colabs you can execute shell commands by adding an exclamation like shown below. The **wget** command is a built-in utility that allows retrieving files from the web.\n",
    "\n",
    "**Note:** The wget command only works on the google colabs environment. To run this locally, download the data by hand."
   ]
  },
  {
   "cell_type": "code",
   "execution_count": 1,
   "metadata": {
    "colab": {},
    "colab_type": "code",
    "id": "uhXoFEiAHHmy"
   },
   "outputs": [
    {
     "name": "stdout",
     "output_type": "stream",
     "text": [
      "/bin/sh: wget: command not found\r\n"
     ]
    }
   ],
   "source": [
    "! wget https://github.com/datamind-dotfit/python_for_data_science/raw/master/observations.xlsx https://github.com/datamind-dotfit/python_for_data_science/raw/master/sales.xlsx"
   ]
  },
  {
   "cell_type": "markdown",
   "metadata": {
    "colab_type": "text",
    "id": "8KrZzK9pIdH7"
   },
   "source": [
    "### Verify data retrieval\n",
    "Let's verify that the data was actually retrieved and stored in the working directory. We can use the shell command 'ls' for this, it lists all the files in the current directory. We should see both *observations.xlsx* and *sales.xlsx* in the result."
   ]
  },
  {
   "cell_type": "code",
   "execution_count": 2,
   "metadata": {
    "colab": {},
    "colab_type": "code",
    "id": "bsjJo2a3Iahd"
   },
   "outputs": [
    {
     "name": "stdout",
     "output_type": "stream",
     "text": [
      "Python_for_data_science_ex3.ipynb\r\n",
      "Python_for_data_science_ex3_answers.ipynb\r\n",
      "observations.xlsx\r\n",
      "sales.xlsx\r\n"
     ]
    }
   ],
   "source": [
    "! ls"
   ]
  },
  {
   "cell_type": "markdown",
   "metadata": {
    "colab_type": "text",
    "id": "6AdqmseoI0J_"
   },
   "source": [
    "---"
   ]
  },
  {
   "cell_type": "markdown",
   "metadata": {
    "colab_type": "text",
    "id": "t6rRxg1OZf-7"
   },
   "source": [
    "# Step 2:\n",
    "## Let's load the pandas library and our freshly retrieved data\n",
    "\n",
    "Load the pandas package and make sure you can access its functions through the name 'pd'. Remember in python we can import modules like so:\n",
    "\n",
    "```\n",
    "import module_name as some_shorthand\n",
    "```\n",
    "\n"
   ]
  },
  {
   "cell_type": "code",
   "execution_count": null,
   "metadata": {
    "colab": {},
    "colab_type": "code",
    "id": "mOQa16HUZf-8"
   },
   "outputs": [],
   "source": [
    "import pandas as pd"
   ]
  },
  {
   "cell_type": "markdown",
   "metadata": {
    "colab_type": "text",
    "id": "NOWB_dc0Zf_E"
   },
   "source": [
    "Read in the two excel files that we downloaded in step 1.<br>\n",
    "http://pandas.pydata.org/pandas-docs/stable/reference/api/pandas.read_excel.html"
   ]
  },
  {
   "cell_type": "code",
   "execution_count": 2,
   "metadata": {
    "colab": {},
    "colab_type": "code",
    "id": "OQJKxllzZf_G"
   },
   "outputs": [],
   "source": [
    "sales = pd.read_excel('sales.xlsx')\n",
    "observations = pd.read_excel('observations.xlsx')"
   ]
  },
  {
   "cell_type": "markdown",
   "metadata": {
    "colab_type": "text",
    "id": "YMFTuIrkZf_M"
   },
   "source": [
    "# Step 3\n",
    "## 3.1 - Explore the data \n",
    "\n",
    "Let's start of by investigating some of the rows of our dataframe.\n",
    "\n",
    "<br>\n",
    "\n",
    "**Questions:** <br>\n",
    "- Inspect the top of the sales dataframe. What's going on here?\n",
    "- Sample 20 random rows from the dataframe\n",
    "- Check out the seemingly empty columns. Which unique values do they contain? Is there anything other than NaN? <br>\n",
    "\n",
    "\n",
    "https://pandas.pydata.org/pandas-docs/stable/reference/api/pandas.Series.unique.html <br>\n",
    "Note: unique() is only usable on a pandas Series, not on a DataFrame."
   ]
  },
  {
   "cell_type": "code",
   "execution_count": 3,
   "metadata": {
    "colab": {},
    "colab_type": "code",
    "id": "bFuEwjTiZf_O"
   },
   "outputs": [
    {
     "data": {
      "text/html": [
       "<div>\n",
       "<style scoped>\n",
       "    .dataframe tbody tr th:only-of-type {\n",
       "        vertical-align: middle;\n",
       "    }\n",
       "\n",
       "    .dataframe tbody tr th {\n",
       "        vertical-align: top;\n",
       "    }\n",
       "\n",
       "    .dataframe thead th {\n",
       "        text-align: right;\n",
       "    }\n",
       "</style>\n",
       "<table border=\"1\" class=\"dataframe\">\n",
       "  <thead>\n",
       "    <tr style=\"text-align: right;\">\n",
       "      <th></th>\n",
       "      <th>name_of_country</th>\n",
       "      <th>year</th>\n",
       "      <th>bikes</th>\n",
       "      <th>Unnamed: 3</th>\n",
       "      <th>Unnamed: 4</th>\n",
       "      <th>name_of_country.1</th>\n",
       "      <th>year.1</th>\n",
       "      <th>total_turnover</th>\n",
       "    </tr>\n",
       "  </thead>\n",
       "  <tbody>\n",
       "    <tr>\n",
       "      <th>0</th>\n",
       "      <td>AUSTRIA</td>\n",
       "      <td>1670</td>\n",
       "      <td>60</td>\n",
       "      <td>NaN</td>\n",
       "      <td>NaN</td>\n",
       "      <td>AUSTRIA</td>\n",
       "      <td>1670</td>\n",
       "      <td>5274.0</td>\n",
       "    </tr>\n",
       "    <tr>\n",
       "      <th>1</th>\n",
       "      <td>AUSTRIA</td>\n",
       "      <td>1671</td>\n",
       "      <td>59</td>\n",
       "      <td>NaN</td>\n",
       "      <td>NaN</td>\n",
       "      <td>AUSTRIA</td>\n",
       "      <td>1671</td>\n",
       "      <td>5186.1</td>\n",
       "    </tr>\n",
       "    <tr>\n",
       "      <th>2</th>\n",
       "      <td>AUSTRIA</td>\n",
       "      <td>1674</td>\n",
       "      <td>53</td>\n",
       "      <td>NaN</td>\n",
       "      <td>NaN</td>\n",
       "      <td>AUSTRIA</td>\n",
       "      <td>1674</td>\n",
       "      <td>4658.7</td>\n",
       "    </tr>\n",
       "    <tr>\n",
       "      <th>3</th>\n",
       "      <td>AUSTRIA</td>\n",
       "      <td>1675</td>\n",
       "      <td>58</td>\n",
       "      <td>NaN</td>\n",
       "      <td>NaN</td>\n",
       "      <td>AUSTRIA</td>\n",
       "      <td>1675</td>\n",
       "      <td>5098.2</td>\n",
       "    </tr>\n",
       "    <tr>\n",
       "      <th>4</th>\n",
       "      <td>AUSTRIA</td>\n",
       "      <td>1676</td>\n",
       "      <td>56</td>\n",
       "      <td>NaN</td>\n",
       "      <td>NaN</td>\n",
       "      <td>AUSTRIA</td>\n",
       "      <td>1676</td>\n",
       "      <td>4922.4</td>\n",
       "    </tr>\n",
       "  </tbody>\n",
       "</table>\n",
       "</div>"
      ],
      "text/plain": [
       "  name_of_country  year  bikes  Unnamed: 3  Unnamed: 4 name_of_country.1  \\\n",
       "0         AUSTRIA  1670     60         NaN         NaN           AUSTRIA   \n",
       "1         AUSTRIA  1671     59         NaN         NaN           AUSTRIA   \n",
       "2         AUSTRIA  1674     53         NaN         NaN           AUSTRIA   \n",
       "3         AUSTRIA  1675     58         NaN         NaN           AUSTRIA   \n",
       "4         AUSTRIA  1676     56         NaN         NaN           AUSTRIA   \n",
       "\n",
       "   year.1  total_turnover  \n",
       "0    1670          5274.0  \n",
       "1    1671          5186.1  \n",
       "2    1674          4658.7  \n",
       "3    1675          5098.2  \n",
       "4    1676          4922.4  "
      ]
     },
     "execution_count": 3,
     "metadata": {},
     "output_type": "execute_result"
    }
   ],
   "source": [
    "# 3.1 - 1\n",
    "# Head() & Tail() displays the top/bottom rows.\n",
    "sales.head()"
   ]
  },
  {
   "cell_type": "code",
   "execution_count": null,
   "metadata": {},
   "outputs": [],
   "source": [
    "# 3.1 - 2\n",
    "# Sample works on a DataFrame\n",
    "sales.sample(20)"
   ]
  },
  {
   "cell_type": "code",
   "execution_count": 4,
   "metadata": {
    "colab": {},
    "colab_type": "code",
    "id": "Gl0RQtXIZf_U"
   },
   "outputs": [
    {
     "data": {
      "text/plain": [
       "array([nan])"
      ]
     },
     "execution_count": 4,
     "metadata": {},
     "output_type": "execute_result"
    }
   ],
   "source": [
    "# 3.1 - 3\n",
    "# Unique() can be used on Series\n",
    "sales.iloc[:, 3].unique()"
   ]
  },
  {
   "cell_type": "markdown",
   "metadata": {
    "colab_type": "text",
    "id": "TAtyQ5rGaZ2J"
   },
   "source": [
    "## Selecting with pandas' iloc\n",
    "Remember that you can use pandas' iloc functionality to access information by integer index:\n",
    "\n",
    "\n",
    "\n",
    "```\n",
    "df.iloc[:, 3]\n",
    "```\n",
    "\n",
    "\n",
    "**Questions:**\n",
    "- Inspect the top of the observations dataframe. \n",
    "- What do you notice about the format of the data? How does it compare to the sales dataframe?\n",
    "- Find the name of the country and the year in the sixth row of the sales dataframe.\n",
    "\n",
    "\n"
   ]
  },
  {
   "cell_type": "code",
   "execution_count": 5,
   "metadata": {
    "colab": {},
    "colab_type": "code",
    "id": "xbHOgTqXZf_b"
   },
   "outputs": [
    {
     "data": {
      "text/html": [
       "<div>\n",
       "<style scoped>\n",
       "    .dataframe tbody tr th:only-of-type {\n",
       "        vertical-align: middle;\n",
       "    }\n",
       "\n",
       "    .dataframe tbody tr th {\n",
       "        vertical-align: top;\n",
       "    }\n",
       "\n",
       "    .dataframe thead th {\n",
       "        text-align: right;\n",
       "    }\n",
       "</style>\n",
       "<table border=\"1\" class=\"dataframe\">\n",
       "  <thead>\n",
       "    <tr style=\"text-align: right;\">\n",
       "      <th></th>\n",
       "      <th>countryname</th>\n",
       "      <th>year</th>\n",
       "      <th>pop</th>\n",
       "    </tr>\n",
       "  </thead>\n",
       "  <tbody>\n",
       "    <tr>\n",
       "      <th>0</th>\n",
       "      <td>Austria</td>\n",
       "      <td>1670</td>\n",
       "      <td>85</td>\n",
       "    </tr>\n",
       "    <tr>\n",
       "      <th>1</th>\n",
       "      <td>Austria</td>\n",
       "      <td>1671</td>\n",
       "      <td>83</td>\n",
       "    </tr>\n",
       "    <tr>\n",
       "      <th>2</th>\n",
       "      <td>Austria</td>\n",
       "      <td>1672</td>\n",
       "      <td>86</td>\n",
       "    </tr>\n",
       "    <tr>\n",
       "      <th>3</th>\n",
       "      <td>Austria</td>\n",
       "      <td>1673</td>\n",
       "      <td>81</td>\n",
       "    </tr>\n",
       "    <tr>\n",
       "      <th>4</th>\n",
       "      <td>Austria</td>\n",
       "      <td>1674</td>\n",
       "      <td>75</td>\n",
       "    </tr>\n",
       "  </tbody>\n",
       "</table>\n",
       "</div>"
      ],
      "text/plain": [
       "  countryname  year  pop\n",
       "0     Austria  1670   85\n",
       "1     Austria  1671   83\n",
       "2     Austria  1672   86\n",
       "3     Austria  1673   81\n",
       "4     Austria  1674   75"
      ]
     },
     "execution_count": 5,
     "metadata": {},
     "output_type": "execute_result"
    }
   ],
   "source": [
    "# 3.1 - 4\n",
    "observations.head()"
   ]
  },
  {
   "cell_type": "code",
   "execution_count": null,
   "metadata": {
    "colab": {},
    "colab_type": "code",
    "id": "hDnhXypJZf_g"
   },
   "outputs": [],
   "source": [
    "# 3.1 - 5\n",
    "# Using iloc and column selection in sequence.\n",
    "sales.iloc[5][['name_of_country', 'year']]"
   ]
  },
  {
   "cell_type": "code",
   "execution_count": 0,
   "metadata": {
    "colab": {},
    "colab_type": "code",
    "id": "hDnhXypJZf_g"
   },
   "outputs": [],
   "source": [
    "# 3.1 - 6\n",
    "# Using iloc for both rows & columns.\n",
    "sales.iloc[5, 0:2]"
   ]
  },
  {
   "cell_type": "markdown",
   "metadata": {
    "colab_type": "text",
    "id": "GvYn9P2-bcHq"
   },
   "source": [
    "## Filtering in pandas\n",
    "Filtering rows works by specifying the conditions that the rows should meet:\n",
    "\n",
    "\n",
    "\n",
    "```\n",
    "df[df['column_one'] == 3]\n",
    "```\n",
    "\n",
    "**Questions:**\n",
    "- Find all rows in the observations dataframe where the value of 'pop' is greater than 80.\n",
    "- Find all rows in the sales dataframe concerning the Netherlands.\n",
    "- Now from those rows, select the bikes and year columns.\n",
    "- Add an extra filter: Find the row about the Netherlands in 1675."
   ]
  },
  {
   "cell_type": "code",
   "execution_count": 0,
   "metadata": {
    "colab": {},
    "colab_type": "code",
    "id": "RL7WkmBIZf_l"
   },
   "outputs": [],
   "source": [
    "# 3.1 - 7\n",
    "# Filter pop > 80\n",
    "observations[observations['pop'] > 80]"
   ]
  },
  {
   "cell_type": "code",
   "execution_count": 0,
   "metadata": {
    "colab": {},
    "colab_type": "code",
    "id": "w6l8SP88Zf_r"
   },
   "outputs": [],
   "source": [
    "# 3.1 - 8\n",
    "# Filter 'NETHERLANDS'\n",
    "sales[sales['name_of_country'] == 'NETHERLANDS']"
   ]
  },
  {
   "cell_type": "code",
   "execution_count": 0,
   "metadata": {
    "colab": {},
    "colab_type": "code",
    "id": "qMXJVJraZf_w"
   },
   "outputs": [],
   "source": [
    "# 3.1 - 9\n",
    "# Select columns from subset\n",
    "sales[sales['name_of_country'] == 'NETHERLANDS'][['bikes', 'year']]"
   ]
  },
  {
   "cell_type": "code",
   "execution_count": 0,
   "metadata": {
    "colab": {},
    "colab_type": "code",
    "id": "l22yGfUPeffN"
   },
   "outputs": [],
   "source": [
    "# 3.1 - 10\n",
    "# Multiple criteria filter\n",
    "sales[(sales['name_of_country'] == 'NETHERLANDS') & (sales['year'] == 1675)]"
   ]
  },
  {
   "cell_type": "markdown",
   "metadata": {
    "colab_type": "text",
    "id": "BZhOk2EbKfgh"
   },
   "source": [
    "## 3.2 - Joining data\n",
    "\n",
    "![alt text](https://i.stack.imgur.com/iJUMl.png)"
   ]
  },
  {
   "cell_type": "markdown",
   "metadata": {
    "colab_type": "text",
    "id": "E5PhcFK8mGUo"
   },
   "source": [
    "Now we know what the data looks like and what to expect from it, we can start thinking about merging the sales and observations dataframes. This will give us combined data on what happened in a country during a year. Before we can start joining, should any data transformations be performed? Remember that you can inspect the data frames with the .head() function. \n",
    "\n",
    "Using the str.title() function, which transforms any string into a version where only the first letter is capitalized, you can create uniform data among dataframes to join on. \n",
    "\n",
    "**Question:**\n",
    "- Make the relevant join data uniform among dataframes.\n",
    "\n",
    "Now that our country names are written in the exact same way, we can perform the join we have been speaking about. What do we join on, and why? \n",
    "\n",
    "**Questions:**\n",
    "- What happens if you join on only one column, such as the country or the year? \n",
    "- What happens if you join a dataframe to itself?\n",
    "\n",
    "Look up the way to join on multiple columns in the pandas documentation:\n",
    "\n",
    "https://pandas.pydata.org/pandas-docs/stable/reference/api/pandas.DataFrame.merge.html\n",
    "\n",
    "- Think of when you would use which type of join. If you wanted to find all observations and, if possible, add the sales information to them, how would the code look?\n",
    "\n",
    "Try them all (create a df_inner, df_outer, df_left and df_right) and inspect the results to find out the effects of various joins. The following code will show you the shape of the dataframe in the format (rows, columns):\n",
    "\n",
    "```\n",
    "df.shape\n",
    "```\n",
    "\n"
   ]
  },
  {
   "cell_type": "code",
   "execution_count": 0,
   "metadata": {
    "colab": {},
    "colab_type": "code",
    "id": "D9aWIhoFnAm7"
   },
   "outputs": [],
   "source": [
    "# 3.2 - 1\n",
    "# Inspection\n",
    "sales.head()\n",
    "observations.head()\n",
    "\n",
    "# We can use apply on a series and reassign this value. Note that we do not include the parentheses for\n",
    "# str.title, since we pass the entire function\n",
    "sales['name_of_country'] = sales['name_of_country'].apply(str.title)\n",
    "observations['countryname'] = observations['countryname'].apply(str.title)\n",
    "\n"
   ]
  },
  {
   "cell_type": "code",
   "execution_count": null,
   "metadata": {},
   "outputs": [],
   "source": [
    "# 3.2 - 2\n",
    "# Joining on only one column introduces multiple matches per record which leads to an increase in rows."
   ]
  },
  {
   "cell_type": "code",
   "execution_count": null,
   "metadata": {},
   "outputs": [],
   "source": [
    "# 3.2 - 3\n",
    "# Depending on the column you might end up with the same dataframe or a larger data frame (rows and column wise)"
   ]
  },
  {
   "cell_type": "code",
   "execution_count": 0,
   "metadata": {
    "colab": {},
    "colab_type": "code",
    "id": "FVzQv0tG0oVH"
   },
   "outputs": [],
   "source": [
    "# 3.2 - 4\n",
    "# Inner, Outer, Left, Right join\n",
    "df_inner = sales.merge(observations, how='inner', left_on=['name_of_country', 'year'], \n",
    "                       right_on=['countryname', 'year'])\n",
    "\n",
    "df_outer = sales.merge(observations, how='outer', left_on=['name_of_country', 'year'], \n",
    "                       right_on=['countryname', 'year'])\n",
    "\n",
    "df_left = sales.merge(observations, how='left', left_on=['name_of_country', 'year'], \n",
    "                      right_on=['countryname', 'year'])\n",
    "\n",
    "df_right = sales.merge(observations, how='right', left_on=['name_of_country', 'year'], \n",
    "                       right_on=['countryname', 'year'])"
   ]
  },
  {
   "cell_type": "markdown",
   "metadata": {
    "colab_type": "text",
    "id": "6SbHc8I5ZNvs"
   },
   "source": [
    "## 3.3 - Missing values\n",
    "We now have a dataframe with all information in it. Upon closer inspection, you will see that the dataframe from the **outer join** has some missing values. Do you understand completely why this happens? \n",
    "\n",
    "In this section, we will inspect the missing values and deal with them in an appropriate manner. Let's clean up the dataframe from the outer join a bit\n",
    "\n",
    "**Questions**:\n",
    "- Delete all columns containing only NaN or duplicate data, making it easier to work with.\n",
    "- Find all rows that have null values.\n",
    "- Can we guess from which country the observations with the missing country value are?\n",
    "- If you had to fill in the missing values in the 'bikes', 'total_turnover' and 'pop' columns, how would you do this? Just think about it for now, later we will actually do it.\n",
    "\n",
    "Remember that the isnull() function helps you find rows containing null values."
   ]
  },
  {
   "cell_type": "code",
   "execution_count": 0,
   "metadata": {
    "colab": {},
    "colab_type": "code",
    "id": "qWNSYYk78JOv"
   },
   "outputs": [],
   "source": [
    "# 3.3 - 1\n",
    "# Select relevant columns\n",
    "cols = ['countryname', 'year', 'bikes', 'total_turnover', 'pop']\n",
    "\n",
    "df_outer = df_outer[cols]"
   ]
  },
  {
   "cell_type": "code",
   "execution_count": 0,
   "metadata": {
    "colab": {},
    "colab_type": "code",
    "id": "4AhcFYKP9ApY"
   },
   "outputs": [],
   "source": [
    "# 3.3 - 2\n",
    "# Use isnull(), then use any to select all rows that include a null value.\n",
    "df_outer[df_outer.isnull().any(axis=1)]"
   ]
  },
  {
   "cell_type": "code",
   "execution_count": null,
   "metadata": {},
   "outputs": [],
   "source": [
    "# 3.3 - 3"
   ]
  },
  {
   "cell_type": "code",
   "execution_count": null,
   "metadata": {},
   "outputs": [],
   "source": [
    "# 3.3 - 4\n",
    "# - Use a dictionary in the fillna function\n",
    "# - OR loop over columns and apply fillna"
   ]
  },
  {
   "cell_type": "markdown",
   "metadata": {
    "colab_type": "text",
    "id": "tElMylz5oXql"
   },
   "source": [
    "## Aggregating data\n",
    "Aggregations are useful to get a quick look at derived statistics. At Datamind we often use these derived statistics to get a better picture of our data and also to fill in missing values. In this section we will get a clear picture on how to aggregate data while grouping.\n",
    "\n",
    "**Questions**:\n",
    "- Count the number of observations per country in the dataframe.\n",
    "- Calculate the average turnover per year\n",
    "- Create a dataframe containing the year, average turnover per year and average population per year\n",
    "- Calculate the maximum population per country.\n",
    "- Calculate the sum of the total turnover per year per country. Why is this not such a sensible statistic? Take note of what happens to the NaN observations.\n",
    "\n",
    "**Bonus**:\n",
    "- Calculate, for each row, the difference between the total turnover for this observation and the average turnover for that year and store this in a new dataframe containing all old columns plus the new one. For completeness, rename the new column to something appropriate.\n",
    "\n",
    "Hint: Create a new dataframe with the averages and join the new dataframe onto the old one. Then create a new column by subtracting one value from another:\n",
    "\n",
    "\n",
    "\n",
    "```\n",
    "df['derived_column'] = df['original_column1'] * df['original_column2']\n",
    "```\n",
    "\n"
   ]
  },
  {
   "cell_type": "code",
   "execution_count": 0,
   "metadata": {
    "colab": {},
    "colab_type": "code",
    "id": "XJmAIxAroRhx"
   },
   "outputs": [],
   "source": [
    "# Count per group\n",
    "df_outer.groupby('countryname').count()"
   ]
  },
  {
   "cell_type": "code",
   "execution_count": 0,
   "metadata": {
    "colab": {},
    "colab_type": "code",
    "id": "DLXmDN6Qo0D0"
   },
   "outputs": [],
   "source": [
    "# Average over year\n",
    "df_outer[['year', 'total_turnover']].groupby('year').mean()"
   ]
  },
  {
   "cell_type": "code",
   "execution_count": 0,
   "metadata": {
    "colab": {},
    "colab_type": "code",
    "id": "bQujCuFKsD-J"
   },
   "outputs": [],
   "source": [
    "# Average turnover and population\n",
    "df_outer[['year', 'total_turnover', 'pop']].groupby('year').mean()"
   ]
  },
  {
   "cell_type": "code",
   "execution_count": 0,
   "metadata": {
    "colab": {},
    "colab_type": "code",
    "id": "COrNuzgz0AnM"
   },
   "outputs": [],
   "source": [
    "# Max population per country\n",
    "df_outer.groupby(['countryname', 'year']).sum()"
   ]
  },
  {
   "cell_type": "code",
   "execution_count": 0,
   "metadata": {
    "colab": {},
    "colab_type": "code",
    "id": "ljXKneqWwVuE"
   },
   "outputs": [],
   "source": [
    "# Bonus\n",
    "average_per_year = df_outer[['year', 'total_turnover']].groupby('year').mean()\n",
    "df_outer2 = df_outer.merge(average_per_year, on='year', how='left')\n",
    "df_outer2['diff_from_avg'] = df_outer2['total_turnover_x'] - df_outer2['total_turnover_y']"
   ]
  },
  {
   "cell_type": "markdown",
   "metadata": {},
   "source": [
    "## Enrich our data using API's, store information in a new database using Pandas\n",
    "\n",
    "We can enrich our dataframe further by adding data from an API. Let's see if we can add country information to the data that we currently have. Let's use another public API to add the 2-letter ISOcode, longitude coordinates and latitude coordinates of each country that we have in our data set. This exercise is meant to take some time, feel free to experiment! This is where you learn the most.\n",
    "\n",
    "API: https://restcountries.eu/rest/v2/name\n",
    "\n",
    "This exercise requires you to do the following:\n",
    "- Collect all countries in your data set\n",
    "- Call the API for each country\n",
    "- Extract the information from the **JSON** request\n",
    "- Create a data frame from the API results\n",
    "- Join the data to your existing data frame\n",
    "- Inspect the results\n",
    "- Optional: Store the table in a SQLite database table using pandas SQL\n",
    "- Optional: Verify that the results are in your sqlite database\n",
    "\n"
   ]
  },
  {
   "cell_type": "code",
   "execution_count": null,
   "metadata": {},
   "outputs": [],
   "source": [
    "# Final assignment"
   ]
  }
 ],
 "metadata": {
  "colab": {
   "collapsed_sections": [],
   "include_colab_link": true,
   "name": "Python for data science - answers.ipynb",
   "provenance": [],
   "version": "0.3.2"
  },
  "kernelspec": {
   "display_name": "Python 3",
   "language": "python",
   "name": "python3"
  },
  "language_info": {
   "codemirror_mode": {
    "name": "ipython",
    "version": 3
   },
   "file_extension": ".py",
   "mimetype": "text/x-python",
   "name": "python",
   "nbconvert_exporter": "python",
   "pygments_lexer": "ipython3",
   "version": "3.7.4"
  }
 },
 "nbformat": 4,
 "nbformat_minor": 1
}
