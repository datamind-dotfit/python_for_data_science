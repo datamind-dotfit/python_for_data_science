{
  "nbformat": 4,
  "nbformat_minor": 0,
  "metadata": {
    "kernelspec": {
      "display_name": "Python 3",
      "language": "python",
      "name": "python3"
    },
    "language_info": {
      "codemirror_mode": {
        "name": "ipython",
        "version": 3
      },
      "file_extension": ".py",
      "mimetype": "text/x-python",
      "name": "python",
      "nbconvert_exporter": "python",
      "pygments_lexer": "ipython3",
      "version": "3.7.1"
    },
    "colab": {
      "name": "Python_for_data_science_ex1.ipynb",
      "provenance": [],
      "collapsed_sections": []
    }
  },
  "cells": [
    {
      "cell_type": "markdown",
      "metadata": {
        "id": "ldCdX_BTE9VB",
        "colab_type": "text"
      },
      "source": [
        "Welcome to Python for Data Science! This notebook will help you get an understanding of file handling in Python. You may copy this notebook to your local Google Drive or computer to study the questions and answers later on. If you're not familiar with notebooks, please see https://jupyter-notebook.readthedocs.io/en/latest/notebook.html#notebook-documents for a quick introduction to Jupyter notebooks. These principles are directly applicable to Google Colabs notebooks.\n",
        "\n",
        "The notebook is divided into four sections, each step requires input from the previous step(s). If you have any questions, feel free to ask them in class or contact one of the trainers per e-mail!\n",
        "\n",
        "Some tips to get you started:\n",
        "\n",
        "* Make new cells! You can make as many as you want, this way you can execute small code blocks and work iteratively.\n",
        "* Break larger problems down into small chunks (and work them out in individual code cells). Once you're convinced everything is in order, you can merge your code into one code cell.\n",
        "* Use comments to explain what you're doing, # allows you to write inline comments.\n",
        "* If you resort to Google or Stackoverflow for help, make sure you actually understand the solution that is provided. And rather than copying the code, make sure write the code!\n"
      ]
    },
    {
      "cell_type": "markdown",
      "metadata": {
        "id": "445pflPhFlE4",
        "colab_type": "text"
      },
      "source": [
        "\n",
        "# Python for data science - Part 1: Reading & writing\n",
        "Because data science and analytics start with data, and getting data is always a challenge, this notebook aims to help you develop some data handling skills & tricks using Python.\n",
        "\n",
        "---\n",
        "\n",
        "### Download data\n",
        "To start off, let's use this command to download some data. The exclamation mark means that the code being executed is not Python code. This training will not go into that further, so feel free to execute the code and move along.\n",
        "\n",
        "If you want to read more about shell commands, you can do so here:\n",
        "\n",
        "http://linuxcommand.org/lc3_lts0010.php\n",
        "\n",
        "Working with shell commands is beyond the scope of this training, but very useful to get things done quickly\n",
        "\n",
        "**Note:**\n",
        "The wget command only works on the Google Colabs environment or some Linux based systems. To run this locally, download the data by hand (by copying the links into a browsers) or change the command to whatever is applicable for your OS."
      ]
    },
    {
      "cell_type": "code",
      "metadata": {
        "id": "grnuY3QBE9VG",
        "colab_type": "code",
        "colab": {}
      },
      "source": [
        "! wget https://github.com/datamind-dotfit/python_for_data_science/raw/master/ex_1/file_1.txt https://github.com/datamind-dotfit/python_for_data_science/raw/master/ex_1/file_2.txt https://github.com/datamind-dotfit/python_for_data_science/raw/master/ex_1/file_3.txt https://github.com/datamind-dotfit/python_for_data_science/raw/master/ex_1/file_4.txt https://github.com/datamind-dotfit/python_for_data_science/raw/master/ex_1/file_5.txt https://github.com/datamind-dotfit/python_for_data_science/raw/master/ex_1/file_6.txt https://github.com/datamind-dotfit/python_for_data_science/raw/master/ex_1/file_7.txt https://github.com/datamind-dotfit/python_for_data_science/raw/master/ex_1/file_8.txt    "
      ],
      "execution_count": null,
      "outputs": []
    },
    {
      "cell_type": "markdown",
      "metadata": {
        "id": "xb1g-DSaE9VP",
        "colab_type": "text"
      },
      "source": [
        "---\n",
        "## Opening a single file\n",
        "In Python, there is no need for importing external library to read and write files. Python provides built-in functions for creating, writing and reading files. \n",
        "\n",
        "To open a single file in Python we can use the **open** function. The open function accepts different argument (parameters that you pass to a function). Let's first use the **! ls** command to execute a shell command that lists all files in the current working directory. \n",
        "\n",
        "Again, this is not Python code. Refer to the link above for further documentation in case you find it interesting. If you don't, feel free to move on to the Python parts of the training."
      ]
    },
    {
      "cell_type": "code",
      "metadata": {
        "id": "6Xw6r8-tE9VT",
        "colab_type": "code",
        "colab": {}
      },
      "source": [
        "! ls"
      ],
      "execution_count": null,
      "outputs": []
    },
    {
      "cell_type": "markdown",
      "metadata": {
        "id": "w1tlqigfE9VY",
        "colab_type": "text"
      },
      "source": [
        "It appears that we have a bunch of files named file_1 to file_8, and looking at the extension they are all .text files. Let's see if we can use the **open()** function to open one of the files.\n",
        "\n",
        "**Question:**\n",
        "- Open a .txt file from the working directory using the open() function and assign this to the variable **f**.\n",
        "- What does the mode argument in open mean? What options do you have and when would you use them?\n",
        "- Try to print out the variable **f** using the **print()** function, what do you see?"
      ]
    },
    {
      "cell_type": "code",
      "metadata": {
        "id": "mHUg79oKE9Vd",
        "colab_type": "code",
        "colab": {}
      },
      "source": [
        "# Open a .txt file from the working directory using the open() function and assign this to the variable f."
      ],
      "execution_count": null,
      "outputs": []
    },
    {
      "cell_type": "markdown",
      "metadata": {
        "id": "BvNYcmSXGPuB",
        "colab_type": "text"
      },
      "source": [
        "What does the mode argument in open() mean? What options do you have and when would you use them?\n",
        "\n",
        "The mode argument in open() means:\n",
        "\n",
        "The different options are:\n",
        "* \n",
        "* \n",
        "...\n",
        "\n",
        "and are used when:\n",
        "* \n",
        "*\n",
        "...\n"
      ]
    },
    {
      "cell_type": "code",
      "metadata": {
        "id": "2wlTL7xjGiNU",
        "colab_type": "code",
        "colab": {}
      },
      "source": [
        "# Try to print out the variable f using the print() function, what do you see?"
      ],
      "execution_count": null,
      "outputs": []
    },
    {
      "cell_type": "markdown",
      "metadata": {
        "id": "r-HxlHbFE9Vl",
        "colab_type": "text"
      },
      "source": [
        "---\n",
        "### The file object\n",
        "So we can read in a file using **open()**, but Python stores this as a file object. Variables in Python are objects, and objects have properties and functions. This might sound confusing but it's actually really simple.\n",
        "<br><br>\n",
        "Our file object \"f\" for instance, has the function *read* which is part of the object. This means if we call the **read()** function on the object, it will read the file contents.\n",
        "\n",
        "Remember that we can call methods on objects by using the dot annotation. So for instance using the file object, we may access any function or property of this object by writing **f.read()**.\n",
        "\n",
        "**Note**: reading consumes the file, so it might be wise to put the open and read in the same cell if you want to experiment using different functions.\n",
        "\n",
        "\n",
        "**Question:**\n",
        "- Open a text file using **open()**\n",
        "- Print its contents\n",
        "- What is the difference between the read and readlines function?"
      ]
    },
    {
      "cell_type": "code",
      "metadata": {
        "id": "KofN2g9VE9Vm",
        "colab_type": "code",
        "colab": {}
      },
      "source": [
        "# Open a text file using open()."
      ],
      "execution_count": null,
      "outputs": []
    },
    {
      "cell_type": "code",
      "metadata": {
        "id": "fhwsuVcoGrxr",
        "colab_type": "code",
        "colab": {}
      },
      "source": [
        "# Print its content."
      ],
      "execution_count": null,
      "outputs": []
    },
    {
      "cell_type": "code",
      "metadata": {
        "id": "W24KtPKJGtiX",
        "colab_type": "code",
        "colab": {}
      },
      "source": [
        "# Try out the difference between the read() and readlines() functions."
      ],
      "execution_count": null,
      "outputs": []
    },
    {
      "cell_type": "markdown",
      "metadata": {
        "id": "NLCpHUCSE9Vu",
        "colab_type": "text"
      },
      "source": [
        "---\n",
        "### Writing data to a file\n",
        "We may also use the **open()** function to create a new file to write output to. We only have to change the mode to something that allows us to write instead of read.\n",
        "\n",
        "**Question:**\n",
        "- Use the **open()** function to create a new file called \"output_file.txt\", make sure we can write to it.\n",
        "- Create a string that you will insert into the file\n",
        "- Insert the string in the file\n",
        "- Before you can view the result you'll have to close the filestream\n",
        "- Verify that your output file contains the string\n"
      ]
    },
    {
      "cell_type": "code",
      "metadata": {
        "id": "t2WkfI1wE9Vw",
        "colab_type": "code",
        "colab": {}
      },
      "source": [
        "# Use the open() function to create a new file called output_file.txt. Make sure we can write to it.\n",
        "# Create a string that you will insert into the file.\n",
        "# Insert this string into the file.\n",
        "# Close the file stream."
      ],
      "execution_count": null,
      "outputs": []
    },
    {
      "cell_type": "code",
      "metadata": {
        "id": "kEAOoU3eHOpC",
        "colab_type": "code",
        "colab": {}
      },
      "source": [
        "# Verify that output_file.txt contains the string."
      ],
      "execution_count": null,
      "outputs": []
    },
    {
      "cell_type": "markdown",
      "metadata": {
        "id": "cZWXP4B2E9V-",
        "colab_type": "text"
      },
      "source": [
        "---\n",
        "# Python for data science - part 2: Merging files\n",
        "In practice, it often happens that data is periodically dumped on a certain location. This could be a network disk, your local computer, a data lake, a blob storage, e-mail or an FTP server. \n",
        "\n",
        "<br>If you're lucky the data has the same format across files, but it divided into parts. In this part we'll use python file object to read in multiple files and write the contents to a single output file.\n",
        "\n",
        "Up to now you've learned how to open a single file for reading and writing. Combine this skill with some python basics to merge all the separate files into a single output file.\n",
        "\n",
        "**Question**:\n",
        "- Loop over all of the .txt files and store them in a single output file.\n",
        "\n",
        "<br>\n",
        "\n",
        "**Bonus**:\n",
        "- Record the number of rows in each file, and automatically check if the single output file rows match the sum of the rows in each file."
      ]
    },
    {
      "cell_type": "code",
      "metadata": {
        "id": "cyYGyB4BE9V_",
        "colab_type": "code",
        "colab": {}
      },
      "source": [
        "# Loop over all of the .txt files and store them in a single output file."
      ],
      "execution_count": null,
      "outputs": []
    },
    {
      "cell_type": "code",
      "metadata": {
        "id": "fSXL2J8iE9WE",
        "colab_type": "code",
        "colab": {}
      },
      "source": [
        "# Bonus: Record the number of rows in each file, and automatically check if the \n",
        "# single output file rows match the sum of the rows in each file (~12 lines of code).\n"
      ],
      "execution_count": null,
      "outputs": []
    },
    {
      "cell_type": "markdown",
      "metadata": {
        "id": "68v-DKhkE9WL",
        "colab_type": "text"
      },
      "source": [
        "# Closing notes\n",
        "So now you've learned how the **open()** statement works in python. You're able to merge multiple files together into one single file. In the future you can even use this statement to save more than just text files. The same syntax applies to machine learning models which may be stored as .joblib files. In this case you would open the .joblib file and process the file object using sci-kit learn. We also provide a machine learning training where we deep dive in bringing your model to production."
      ]
    }
  ]
}