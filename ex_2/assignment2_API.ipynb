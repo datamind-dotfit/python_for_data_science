{
  "nbformat": 4,
  "nbformat_minor": 0,
  "metadata": {
    "colab": {
      "name": "assignment3_12112019.ipynb",
      "provenance": [],
      "include_colab_link": true
    },
    "kernelspec": {
      "name": "python3",
      "display_name": "Python 3"
    }
  },
  "cells": [
    {
      "cell_type": "markdown",
      "metadata": {
        "id": "view-in-github",
        "colab_type": "text"
      },
      "source": [
        "<a href=\"https://colab.research.google.com/github/datamind-dotfit/ETL_in_python/blob/master/assignment3_12112019.ipynb\" target=\"_parent\"><img src=\"https://colab.research.google.com/assets/colab-badge.svg\" alt=\"Open In Colab\"/></a>"
      ]
    },
    {
      "cell_type": "markdown",
      "metadata": {
        "id": "GavijMgyLuFC",
        "colab_type": "text"
      },
      "source": [
        "This assignment will teach you how to connect to an API and work with the results it returns to you. For the tutorial, we will use a simple API that requires no authentication. In a business setting, authentication (like a login) is generally required. Unfortunately ABN AMRO does not have any API's that we can use so far. For this reason, we will work with an API that allows us fascinating insights into the brain of Kanye West, through the Kanye as a Service (KaaS) solution."
      ]
    },
    {
      "cell_type": "markdown",
      "metadata": {
        "id": "nb319S7ynIjf",
        "colab_type": "text"
      },
      "source": [
        "# Requests"
      ]
    },
    {
      "cell_type": "markdown",
      "metadata": {
        "id": "q3Gfyu0KOxvh",
        "colab_type": "text"
      },
      "source": [
        "When you send a GET request to an API, it returns a JSON file with two things: a response code (as seen in the slides) and the response data. In our case, Kanye as a Service will bring us quotes of this twentyfirst century polymath."
      ]
    },
    {
      "cell_type": "markdown",
      "metadata": {
        "id": "o5rSwGeBN9hD",
        "colab_type": "text"
      },
      "source": [
        "![alt text](https://www.dataquest.io/wp-content/uploads/2019/09/api-request.svg)"
      ]
    },
    {
      "cell_type": "markdown",
      "metadata": {
        "id": "sqWpbSnqnPsg",
        "colab_type": "text"
      },
      "source": [
        "# Response"
      ]
    },
    {
      "cell_type": "markdown",
      "metadata": {
        "id": "xJ7BM__uQtB3",
        "colab_type": "text"
      },
      "source": [
        "In order to create a GET request, we first import the Python requests library. Making a GET request with this library requires one thing: the URL (web address) of the API. Try to request something from a non-existing URL and inspecting the status code. The response object you have created has multiple properties, of which a new overview is shown at:\n",
        "\n",
        "https://www.w3schools.com/python/ref_requests_response.asp"
      ]
    },
    {
      "cell_type": "code",
      "metadata": {
        "id": "xq2IhvSnOul9",
        "colab_type": "code",
        "colab": {}
      },
      "source": [
        "import requests\n",
        "\n",
        "url = ''\n",
        "response = requests.get(url)"
      ],
      "execution_count": 0,
      "outputs": []
    },
    {
      "cell_type": "code",
      "metadata": {
        "id": "5qUV9XexaV92",
        "colab_type": "code",
        "colab": {}
      },
      "source": [
        "# Write some code here to print the status code of your response object.\n"
      ],
      "execution_count": 0,
      "outputs": []
    },
    {
      "cell_type": "markdown",
      "metadata": {
        "id": "JNmmn_TUaomt",
        "colab_type": "text"
      },
      "source": [
        "Kanye as a Service lives at https://api.kanye.rest. Request a quote from Kanye and use the w3schools documentation to check how to inspect the content of the response.\n",
        "\n"
      ]
    },
    {
      "cell_type": "code",
      "metadata": {
        "id": "VmqL6554aw_m",
        "colab_type": "code",
        "colab": {}
      },
      "source": [
        "# Write some code here to request a quote and to inspect the content of the response.\n"
      ],
      "execution_count": 0,
      "outputs": []
    },
    {
      "cell_type": "code",
      "metadata": {
        "colab_type": "code",
        "outputId": "99b6d49e-f38d-416b-b7fb-e667a83a24d5",
        "id": "NtilSuk-a89I",
        "colab": {
          "base_uri": "https://localhost:8080/",
          "height": 34
        }
      },
      "source": [
        "import requests\n",
        "\n",
        "url = 'https://api.kanye.rest' \n",
        "response = requests.get(url)\n",
        "print(response.content)"
      ],
      "execution_count": 0,
      "outputs": [
        {
          "output_type": "stream",
          "text": [
            "b'{\"quote\":\"I care. I care about everything. Sometimes not giving a f#%k is caring the most.\"}'\n"
          ],
          "name": "stdout"
        }
      ]
    },
    {
      "cell_type": "markdown",
      "metadata": {
        "id": "xO5wSLVWnUah",
        "colab_type": "text"
      },
      "source": [
        "# JSON"
      ]
    },
    {
      "cell_type": "markdown",
      "metadata": {
        "id": "_CU-k-u1crdp",
        "colab_type": "text"
      },
      "source": [
        "This response is in JSON (JavaScript Object Notation) format. JSON is the language of APIs. JSON is a way to encode data structures that ensures that they are easily readable by machines. JSON is the primary format in which data is passed back and forth to APIs, and most API servers will send their responses in JSON format."
      ]
    },
    {
      "cell_type": "markdown",
      "metadata": {
        "id": "R7yxAlJrceg6",
        "colab_type": "text"
      },
      "source": [
        "The JSON response looks like a regular Python dictionary, but is actually a string. We can decode this into a more manageable format by using the Python json package. The json() function of our response object shows the content of the message, and allows us to work with it as if it were a Python dictionary."
      ]
    },
    {
      "cell_type": "code",
      "metadata": {
        "id": "BcZj5APodTEP",
        "colab_type": "code",
        "colab": {}
      },
      "source": [
        "import json\n",
        "\n",
        "response.json()"
      ],
      "execution_count": 0,
      "outputs": []
    },
    {
      "cell_type": "markdown",
      "metadata": {
        "id": "a3Si9EfSeRgz",
        "colab_type": "text"
      },
      "source": [
        "Fetching just the quote is possible in the same way you would for a Python dictionary:"
      ]
    },
    {
      "cell_type": "code",
      "metadata": {
        "id": "IszwAQMrdULZ",
        "colab_type": "code",
        "colab": {}
      },
      "source": [
        "response.json()['quote']"
      ],
      "execution_count": 0,
      "outputs": []
    },
    {
      "cell_type": "markdown",
      "metadata": {
        "id": "rmS6oCDOnW2h",
        "colab_type": "text"
      },
      "source": [
        "# Parameters"
      ]
    },
    {
      "cell_type": "markdown",
      "metadata": {
        "id": "tuyvb05Cfqgt",
        "colab_type": "text"
      },
      "source": [
        "Like Kanye, his API is rather one dimensional: we want a quote, we get a quote. Let's try our luck with a different, more complex API where we can tell the API some more about what it is exactly that we want.\n",
        "\n",
        "Another great free to use API is hosted by NASA. They are willing to supply us with data about the ISS. An endpoint exists that tells us the next time the ISS will fly over a location on our planet (http://api.open-notify.org/iss-pass.json).\n",
        "\n",
        "The documentation (http://open-notify.org/Open-Notify-API/ISS-Pass-Times/) states that it has two required inputs: the latitude and longitude of the location we wish to know about. The altitude and number of passes to return are optional parameters - so we can leave these out if we want.\n",
        "\n",
        "The requests library facilitates passing the latitude and longitude parameters to the API. For this we create a dictionary with the values that we want to give to the API, and use this dictionary to fill the 'params' keyword for the get() function. In this example we have used Amsterdam's latitude and longitude.\n",
        "\n"
      ]
    },
    {
      "cell_type": "code",
      "metadata": {
        "id": "-5lzdcQzj16y",
        "colab_type": "code",
        "colab": {}
      },
      "source": [
        "parameters = {\n",
        "    'lat': 52.37, \n",
        "    'lon': 4.89\n",
        "    # you can add the two optional parameters here\n",
        "    # what happens if you add parameters that are not supported by the API? check it with the status_code attribute of the response\n",
        "}\n",
        "\n",
        "response = requests.get('http://api.open-notify.org/iss-pass.json', params=parameters)"
      ],
      "execution_count": 0,
      "outputs": []
    },
    {
      "cell_type": "markdown",
      "metadata": {
        "id": "OWNnfq8gnbgl",
        "colab_type": "text"
      },
      "source": [
        "# ISS pass times"
      ]
    },
    {
      "cell_type": "markdown",
      "metadata": {
        "id": "37rTsUdXlQ_H",
        "colab_type": "text"
      },
      "source": [
        "Let's inspect the response and try to figure out the soonest pass time."
      ]
    },
    {
      "cell_type": "code",
      "metadata": {
        "id": "H3VKDwWCeWcz",
        "colab_type": "code",
        "outputId": "02756a6f-6f42-475d-a6ff-6f884af3a0a4",
        "colab": {
          "base_uri": "https://localhost:8080/",
          "height": 204
        }
      },
      "source": [
        "response.json()"
      ],
      "execution_count": 0,
      "outputs": [
        {
          "output_type": "execute_result",
          "data": {
            "text/plain": [
              "{'message': 'success',\n",
              " 'request': {'altitude': 100,\n",
              "  'datetime': 1573561490,\n",
              "  'latitude': 52.37,\n",
              "  'longitude': 4.89,\n",
              "  'passes': 5},\n",
              " 'response': [{'duration': 346, 'risetime': 1573591323},\n",
              "  {'duration': 607, 'risetime': 1573596935},\n",
              "  {'duration': 654, 'risetime': 1573602693},\n",
              "  {'duration': 657, 'risetime': 1573608492},\n",
              "  {'duration': 638, 'risetime': 1573614294}]}"
            ]
          },
          "metadata": {
            "tags": []
          },
          "execution_count": 31
        }
      ]
    },
    {
      "cell_type": "markdown",
      "metadata": {
        "id": "Bf5xpvdKluCD",
        "colab_type": "text"
      },
      "source": [
        "The response both contains a 'duration' and a 'risetime'. The risetime is a UNIX timestamp, counting the number of seconds elapsed since January 1st, 1970 (the beginning of time according to nerds). Access the response and take the first item from the list so we can transform it to a human readable date. Remember that the first item from a list can be taken like this: list[0]."
      ]
    },
    {
      "cell_type": "code",
      "metadata": {
        "id": "gAe6jx8cmUg3",
        "colab_type": "code",
        "colab": {}
      },
      "source": [
        "# Write some code here to access the response and take the first item from the list so we can transform it to a human readable date.\n",
        "first_pass = "
      ],
      "execution_count": 0,
      "outputs": []
    },
    {
      "cell_type": "markdown",
      "metadata": {
        "id": "HGte9oknnF5A",
        "colab_type": "text"
      },
      "source": [
        "When does the ISS fly over Amsterdam next?"
      ]
    },
    {
      "cell_type": "code",
      "metadata": {
        "id": "3x8gFhwEm3UY",
        "colab_type": "code",
        "colab": {}
      },
      "source": [
        "from datetime import datetime\n",
        "\n",
        "print(datetime.fromtimestamp(first_pass))"
      ],
      "execution_count": 0,
      "outputs": []
    }
  ]
}
